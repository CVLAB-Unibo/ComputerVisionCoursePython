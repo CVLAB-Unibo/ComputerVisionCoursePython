{
  "nbformat": 4,
  "nbformat_minor": 0,
  "metadata": {
    "colab": {
      "name": "Computer Vision Lab 1.ipynb",
      "version": "0.3.2",
      "provenance": [],
      "collapsed_sections": [],
      "toc_visible": true
    },
    "kernelspec": {
      "name": "python3",
      "display_name": "Python 3"
    }
  },
  "cells": [
    {
      "metadata": {
        "id": "7xTc4pxLN2jD",
        "colab_type": "text"
      },
      "cell_type": "markdown",
      "source": [
        "# 1. Import Libraries"
      ]
    },
    {
      "metadata": {
        "id": "RN44ww8QN7lY",
        "colab_type": "text"
      },
      "cell_type": "markdown",
      "source": [
        "The python keywork **import** is used to include a library in the script.\n",
        "\n",
        "In this example we will import these libraries:\n",
        "\n",
        "*   **cv2** is the Opencv Library.\n",
        "*   **numpy** is the Linear Algebra Library, it is used for vector and matrices operations.\n",
        "*   **matplotlib** is the Plot Library, it is used to show images and general plot curves.\n",
        "\n",
        "The following snippet import all the above mentioned libraries:"
      ]
    },
    {
      "metadata": {
        "id": "cIpBFlKpMsn3",
        "colab_type": "code",
        "colab": {}
      },
      "cell_type": "code",
      "source": [
        "import cv2\n",
        "import numpy as np\n",
        "import matplotlib\n",
        "%matplotlib inline"
      ],
      "execution_count": 0,
      "outputs": []
    },
    {
      "metadata": {
        "id": "yzBOKWvGPYHV",
        "colab_type": "text"
      },
      "cell_type": "markdown",
      "source": [
        "To test if your import succeds, we can print each library version number:"
      ]
    },
    {
      "metadata": {
        "id": "7qib-6HeOvrn",
        "colab_type": "code",
        "colab": {}
      },
      "cell_type": "code",
      "source": [
        "print(\"The OpenCV version is:\", cv2.__version__)\n",
        "print(\"The Numpy version is:\",np.__version__)\n",
        "print(\"The Matplotlib version is:\",matplotlib.__version__)"
      ],
      "execution_count": 0,
      "outputs": []
    },
    {
      "metadata": {
        "id": "8lSls_wqQBRs",
        "colab_type": "text"
      },
      "cell_type": "markdown",
      "source": [
        "# 2. Load an image"
      ]
    },
    {
      "metadata": {
        "id": "3KMH-xOeOwfO",
        "colab_type": "text"
      },
      "cell_type": "markdown",
      "source": [
        "First of all we learn to upload media files in this web application in order to have some image data to work on. \n",
        "\n",
        "*   Download the image at this url:  https://mr.comingsoon.it/imgdb/PrimoPiano/75080_ppl.jpg;\n",
        "*   Save it in your computer;\n",
        "*   Rename it as \"avengers.jpg\";\n",
        "*   Upload it in this left panel, under the \"Files\" tab.\n",
        "\n",
        "You should now see your \"avengers.jpg\" file in the left panel. Hence, this file can be used inside your script. With the following snippet you will load the image:\n"
      ]
    },
    {
      "metadata": {
        "id": "_Vz0LclFMtSi",
        "colab_type": "code",
        "colab": {}
      },
      "cell_type": "code",
      "source": [
        "image = cv2.imread('avengers.jpg')"
      ],
      "execution_count": 0,
      "outputs": []
    },
    {
      "metadata": {
        "id": "JhTWOhQKRsu4",
        "colab_type": "text"
      },
      "cell_type": "markdown",
      "source": [
        "The function **cv2.imread(*filename*)** load the image from the *filename* path. \n",
        "\n",
        "To test if the loading procedure is fine, we will print the \"shape\" of the loaded image (The \"shape\" means the **Height** and the **Width** of the image, along with the numbers of channels, i.e. the **Depth**):"
      ]
    },
    {
      "metadata": {
        "id": "R6Py5e5QRnsi",
        "colab_type": "code",
        "colab": {}
      },
      "cell_type": "code",
      "source": [
        "print(image.shape)"
      ],
      "execution_count": 0,
      "outputs": []
    },
    {
      "metadata": {
        "id": "UxakdPCBSUjI",
        "colab_type": "text"
      },
      "cell_type": "markdown",
      "source": [
        "You should see:\n",
        "\n",
        "```\n",
        "(360, 644, 3)\n",
        "```\n",
        "\n",
        "this means that your image has an **Height = 360**, a **Width = 644** and a **Depth = 3**. This is a *TUPLE*, i.e. a collection of multiple values. To access each value of the tuple you can use the same syntax of vector, then:\n"
      ]
    },
    {
      "metadata": {
        "id": "O1rlSTHRSOzt",
        "colab_type": "code",
        "colab": {}
      },
      "cell_type": "code",
      "source": [
        "height = image.shape[0]\n",
        "width = image.shape[1]\n",
        "depth = image.shape[2]"
      ],
      "execution_count": 0,
      "outputs": []
    },
    {
      "metadata": {
        "id": "UVhED5jRTxGX",
        "colab_type": "text"
      },
      "cell_type": "markdown",
      "source": [
        "Then print it separately:"
      ]
    },
    {
      "metadata": {
        "id": "_kalKjRPTrMm",
        "colab_type": "code",
        "colab": {}
      },
      "cell_type": "code",
      "source": [
        "print(\"The Height is:\",height)\n",
        "print(\"The Width is: \",width)\n",
        "print(\"The Depth is: \",depth)"
      ],
      "execution_count": 0,
      "outputs": []
    },
    {
      "metadata": {
        "id": "QM87f9hXTuku",
        "colab_type": "code",
        "colab": {}
      },
      "cell_type": "code",
      "source": [
        ""
      ],
      "execution_count": 0,
      "outputs": []
    },
    {
      "metadata": {
        "id": "XnAqkecSVyws",
        "colab_type": "text"
      },
      "cell_type": "markdown",
      "source": [
        "# 3. Display the image"
      ]
    },
    {
      "metadata": {
        "id": "K-3F5M0ZV1jO",
        "colab_type": "text"
      },
      "cell_type": "markdown",
      "source": [
        "It is important to us humans to see our results! So we will plot the image inside the web page:"
      ]
    },
    {
      "metadata": {
        "id": "liLSvGB_V0uy",
        "colab_type": "code",
        "colab": {}
      },
      "cell_type": "code",
      "source": [
        "matplotlib.pyplot.imshow(image)"
      ],
      "execution_count": 0,
      "outputs": []
    },
    {
      "metadata": {
        "id": "OeXBR3y0XO3W",
        "colab_type": "text"
      },
      "cell_type": "markdown",
      "source": [
        "Why are the colors strange? Usually, colored images have 3 channels: **Red**, **Green** and **Blue** (**RGB**). OpenCV, instead, interprets images as **Blue**, **Green** and **Red (**BGR**). It is just a convention. So if you want to  plot images with original colors using the library **matplotlib**, you need a conversion!"
      ]
    },
    {
      "metadata": {
        "id": "TSgeGQB5WHj3",
        "colab_type": "code",
        "colab": {}
      },
      "cell_type": "code",
      "source": [
        "image_rgb = cv2.cvtColor(image,cv2.COLOR_BGR2RGB)"
      ],
      "execution_count": 0,
      "outputs": []
    },
    {
      "metadata": {
        "id": "wF-1XhViYxxI",
        "colab_type": "text"
      },
      "cell_type": "markdown",
      "source": [
        "And then, plot the new version:"
      ]
    },
    {
      "metadata": {
        "id": "_pTUlinPYvLO",
        "colab_type": "code",
        "colab": {}
      },
      "cell_type": "code",
      "source": [
        "matplotlib.pyplot.imshow(image_rgb)"
      ],
      "execution_count": 0,
      "outputs": []
    },
    {
      "metadata": {
        "id": "W592P6k4ZeXo",
        "colab_type": "text"
      },
      "cell_type": "markdown",
      "source": [
        "The function **cv2.cvtColor(*image*,*converstion_type*)** will return the modified version of the original *image* applying the conversion represented by *converstion_type*. In this case the *converstion_type* is **cv2.COLOR_BGR2RGB** that means a converstion from BGR to RGB (the number 2 is usually used in these situations because it has the same pronunciation of *to*)."
      ]
    },
    {
      "metadata": {
        "id": "MP21kdTnawfe",
        "colab_type": "text"
      },
      "cell_type": "markdown",
      "source": [
        "# 4. Access Image Pixels"
      ]
    },
    {
      "metadata": {
        "id": "NQpQJepPa9k5",
        "colab_type": "text"
      },
      "cell_type": "markdown",
      "source": [
        "In Python the image is represented as a Matrix. Eeach element of the matrix represents one **pixel**. Given that a color image has 3 channels, our representation is not a simple Matrix, but is an extened version of matrix called **Tensor**. Don't worry about it! It is just a Matrix with 3 dimensions. \n",
        "\n",
        "So let's try to access one random pixel. For example one belonging to the Ironman's suit:\n",
        "\n"
      ]
    },
    {
      "metadata": {
        "id": "2Jhpn4Mma6wX",
        "colab_type": "code",
        "colab": {}
      },
      "cell_type": "code",
      "source": [
        "ironman_pixel = image[335,560]\n",
        "print(\"The pixel value is:\",ironman_pixel)"
      ],
      "execution_count": 0,
      "outputs": []
    },
    {
      "metadata": {
        "id": "HPAi1kMluMfE",
        "colab_type": "text"
      },
      "cell_type": "markdown",
      "source": [
        "With the previous notation we accessed to the pixel with $row=335, column=560$. "
      ]
    },
    {
      "metadata": {
        "id": "GK5OaG_ud8bq",
        "colab_type": "text"
      },
      "cell_type": "markdown",
      "source": [
        "As you can see, it is a vector and not a single value! Because we have 3 color channels. Each channel has values between 0-255.\n",
        "\n",
        "Given that it is a vector, we can access each single value with the square brackets operator (like seen in **Section 2** for Tuples):"
      ]
    },
    {
      "metadata": {
        "id": "dZCFjw1bY1sW",
        "colab_type": "code",
        "colab": {}
      },
      "cell_type": "code",
      "source": [
        "blue = ironman_pixel[0]\n",
        "green = ironman_pixel[1]\n",
        "red = ironman_pixel[2]\n",
        "print(\"The BGR value of the pixel is: B={},G={},R={}\".format(blue,green,red))"
      ],
      "execution_count": 0,
      "outputs": []
    },
    {
      "metadata": {
        "id": "qWaxplqtfCEx",
        "colab_type": "text"
      },
      "cell_type": "markdown",
      "source": [
        "As expected, the dominant color is **red** so the *red* value is higher than the *blue* and *green* values. What about an hulk pixel?"
      ]
    },
    {
      "metadata": {
        "id": "rGjY-rQtc6WF",
        "colab_type": "code",
        "colab": {}
      },
      "cell_type": "code",
      "source": [
        "# Pixel vector\n",
        "hulk_pixel = image[181,452]\n",
        "\n",
        "# Separated colors\n",
        "hulk_pixel_blue =  image[181,452,0]\n",
        "hulk_pixel_green = image[181,452,1]\n",
        "hulk_pixel_red =   image[181,452,2]\n",
        "\n",
        "print(\"The BGR value of the pixel is: B={},G={},R={}\".format(hulk_pixel_blue,hulk_pixel_green,hulk_pixel_red))"
      ],
      "execution_count": 0,
      "outputs": []
    },
    {
      "metadata": {
        "id": "7X3sBKSxgOBj",
        "colab_type": "text"
      },
      "cell_type": "markdown",
      "source": [
        "In the previous example we have shown first of all that Hulk is GREEN! .. than we used another method to access image pixels. With two indices we access the image pixel:\n",
        "\n",
        "```\n",
        "pixel = image[335,560]\n",
        "```\n",
        "\n",
        "Hence, we address each pixel component with another index:\n",
        "\n",
        "\n",
        "```\n",
        "red = pixel[2]\n",
        "```\n",
        "\n",
        "Or we can retrieve the pixel component directly with 3 indices:\n",
        "\n",
        "\n",
        "\n",
        "```\n",
        "pixel_red = image[335,560,2]\n",
        "```\n",
        "\n",
        "\n",
        "\n",
        "\n",
        "\n"
      ]
    },
    {
      "metadata": {
        "id": "EDAY6GNSjLO4",
        "colab_type": "text"
      },
      "cell_type": "markdown",
      "source": [
        "Now try to print each component of the pixel belonging to the **Thanos** head:"
      ]
    },
    {
      "metadata": {
        "id": "T_dFXTODjQre",
        "colab_type": "code",
        "colab": {}
      },
      "cell_type": "code",
      "source": [
        "thanos_pixel = image[70,340]\n",
        "\n",
        "#Extract the three pixel components\n",
        "<Insert your code here>\n",
        "<Insert your code here>\n",
        "<Insert your code here>\n",
        "\n",
        "#Print the three pixel components\n",
        "print(\"The BGR value of the pixel is:\", <Insert your code here>)\n"
      ],
      "execution_count": 0,
      "outputs": []
    },
    {
      "metadata": {
        "id": "ATs-0E3EhYk5",
        "colab_type": "text"
      },
      "cell_type": "markdown",
      "source": [
        "# 5. Access Image Region of Interests (ROIs)"
      ]
    },
    {
      "metadata": {
        "id": "TyhI6qB4hlLN",
        "colab_type": "text"
      },
      "cell_type": "markdown",
      "source": [
        "In the previous section we have seen how to access to single pixels. But what about a bigger portion of the image? For example in the following snippet we will retriev the head of **Captain America**:"
      ]
    },
    {
      "metadata": {
        "id": "6C-K9IqQfZAK",
        "colab_type": "code",
        "colab": {}
      },
      "cell_type": "code",
      "source": [
        "captain_america_head_image = image_rgb[180:320, 70:160]"
      ],
      "execution_count": 0,
      "outputs": []
    },
    {
      "metadata": {
        "id": "cB0xCxyltGZg",
        "colab_type": "text"
      },
      "cell_type": "markdown",
      "source": [
        "If we use the **colon** operator \"\"**:**\"\" in the index, e.g. *180:320*, we retrieve a **range** instead of a single value, so we retrieve each element in the range $[180,320)$ with the last element excluded. So the previous code will retrieve the portion of the image with $row \\in [180,320), column \\in [70,180)$."
      ]
    },
    {
      "metadata": {
        "id": "1vB2seREiZS_",
        "colab_type": "text"
      },
      "cell_type": "markdown",
      "source": [
        "Then show it:"
      ]
    },
    {
      "metadata": {
        "id": "_6s0sWXgiJr1",
        "colab_type": "code",
        "colab": {}
      },
      "cell_type": "code",
      "source": [
        "matplotlib.pyplot.imshow(captain_america_head_image)"
      ],
      "execution_count": 0,
      "outputs": []
    },
    {
      "metadata": {
        "id": "7Rp5L40qihh2",
        "colab_type": "text"
      },
      "cell_type": "markdown",
      "source": [
        "Try to show the **Thor** head:"
      ]
    },
    {
      "metadata": {
        "id": "_ATRLq7NipWF",
        "colab_type": "code",
        "colab": {}
      },
      "cell_type": "code",
      "source": [
        "# Extract the portion of the image\n",
        "thor_head_image = <Insert your code here>\n",
        "\n",
        "# Display the image\n",
        "<Insert your code here>\n"
      ],
      "execution_count": 0,
      "outputs": []
    },
    {
      "metadata": {
        "id": "HpTR2pz_mPga",
        "colab_type": "text"
      },
      "cell_type": "markdown",
      "source": [
        "# 6. Grayscale Images vs Colored Images"
      ]
    },
    {
      "metadata": {
        "id": "Ltp2moYHm3hJ",
        "colab_type": "text"
      },
      "cell_type": "markdown",
      "source": [
        "In the previous sections we managed colored image only. But what about grayscale images? First of all download this zip file:\n",
        "\n",
        "http://didattica.arces.unibo.it/file.php/59/Elaborazione_dellImmagine_L-S/Esercitazioni/workimages1.zip\n",
        "\n",
        "This file contains several sample grayscale images. Upload into the left panel the \"lenna.bmp\" file. Then try to load it:"
      ]
    },
    {
      "metadata": {
        "id": "_AAacTe6i3EV",
        "colab_type": "code",
        "colab": {}
      },
      "cell_type": "code",
      "source": [
        "grayscale_image = cv2.imread('lenna.bmp',cv2.IMREAD_GRAYSCALE)\n",
        "print(\"The shape of this Grayscale Image is:\", grayscale_image.shape)"
      ],
      "execution_count": 0,
      "outputs": []
    },
    {
      "metadata": {
        "id": "Kt6Psl64nbIo",
        "colab_type": "text"
      },
      "cell_type": "markdown",
      "source": [
        "Notice something different? \n",
        "First of all we used another argument in **cv2.imread(*filename*,*flags*)**, i.e. *flags*. If we set *flags=0* we load the grayscale version of the *filename* image. Thus, we printed its shape noticing that it has only two values: **Height=256, Width=255**. There is no **Depth** because a grayscale image is a single channel image."
      ]
    },
    {
      "metadata": {
        "id": "PgxogpZ8saMA",
        "colab_type": "text"
      },
      "cell_type": "markdown",
      "source": [
        "Try to extract the Height and the Width of the grayscale image:"
      ]
    },
    {
      "metadata": {
        "id": "yP1VPff6sdxR",
        "colab_type": "code",
        "colab": {}
      },
      "cell_type": "code",
      "source": [
        "height = <Insert your code here>\n",
        "width = <Insert your code here>\n",
        "print(\"The width and the height of the grayscale image are:\",<Insert your code here>)"
      ],
      "execution_count": 0,
      "outputs": []
    },
    {
      "metadata": {
        "id": "2yuK0s0wsrd8",
        "colab_type": "text"
      },
      "cell_type": "markdown",
      "source": [
        "Let's show the image (we add the argument *cmap='gray'* to tell the plot library that is a grayscale picture):"
      ]
    },
    {
      "metadata": {
        "id": "eCR3nY5Sl8rm",
        "colab_type": "code",
        "colab": {}
      },
      "cell_type": "code",
      "source": [
        "matplotlib.pyplot.imshow(grayscale_image, cmap='gray')"
      ],
      "execution_count": 0,
      "outputs": []
    },
    {
      "metadata": {
        "id": "tzSkmo-5qZxw",
        "colab_type": "text"
      },
      "cell_type": "markdown",
      "source": [
        "So what about Pixels now? Each pixel now is not a vector anymore, but a single intensity value between 0-255. Let's try to analyze a couple of pixels belonging to the **Pupil** of the central eye and the other to the **Sclera**:"
      ]
    },
    {
      "metadata": {
        "id": "bqx90K6pl-Od",
        "colab_type": "code",
        "colab": {}
      },
      "cell_type": "code",
      "source": [
        "pupil_pixel = grayscale_image[132,134]\n",
        "sclera_pixel = grayscale_image[136,136]\n",
        "print(\"The Pupil pixel value is:  \",pupil_pixel)\n",
        "print(\"The Sclera pixel value is: \",sclera_pixel)"
      ],
      "execution_count": 0,
      "outputs": []
    },
    {
      "metadata": {
        "id": "iJB-8QXusAtG",
        "colab_type": "text"
      },
      "cell_type": "markdown",
      "source": [
        "Rembering that a pixel value of **0** is **Black** and a value of **255** is **White**, we notice that the value *82* for the Pupil means a darker pixel with respect to the Sclera *208*."
      ]
    },
    {
      "metadata": {
        "id": "Hur2I0rbu_Q8",
        "colab_type": "text"
      },
      "cell_type": "markdown",
      "source": [
        "# 7. Modify pixels"
      ]
    },
    {
      "metadata": {
        "id": "eDBfzZy7vPeW",
        "colab_type": "text"
      },
      "cell_type": "markdown",
      "source": [
        "Up to now, we accessed pixels without modifying the original image. But, let's try to edit the grayscale image. Knowing that the pupil center is $row=132, column=134$ and the pupil radius is about $3$, we will iterate through the image in order to set to **White** all the pixels around the pupil:"
      ]
    },
    {
      "metadata": {
        "id": "ZIfigX5Xpj-Q",
        "colab_type": "code",
        "colab": {}
      },
      "cell_type": "code",
      "source": [
        "# Copy of the original image\n",
        "copyied_image = grayscale_image.copy()\n",
        "\n",
        "# Pupil coordinates\n",
        "center_row = 132\n",
        "center_column = 134\n",
        "radius = 3\n",
        "\n",
        "new_color = 255 #white\n",
        "\n",
        "for row in range(center_row - radius, center_row + radius):\n",
        "  for column in range(center_column - radius, center_column + radius):\n",
        "    copyied_image[row, column] = new_color"
      ],
      "execution_count": 0,
      "outputs": []
    },
    {
      "metadata": {
        "id": "0BSxG2o9xNoE",
        "colab_type": "text"
      },
      "cell_type": "markdown",
      "source": [
        "Show the image:"
      ]
    },
    {
      "metadata": {
        "id": "8thgmNiAw-pu",
        "colab_type": "code",
        "colab": {}
      },
      "cell_type": "code",
      "source": [
        "matplotlib.pyplot.imshow(copyied_image, cmap='gray')"
      ],
      "execution_count": 0,
      "outputs": []
    },
    {
      "metadata": {
        "id": "LCYWqxNuxaR3",
        "colab_type": "text"
      },
      "cell_type": "markdown",
      "source": [
        "In previous sections we read values of pixels with:\n",
        "\n",
        "```\n",
        "pixel_value = image[row, column]\n",
        "```\n",
        " \n",
        " Assigning to the variable *pixel_value* the value of the pixel at the index *[row,column]*. Conversely, here we assign to the original pixel a custom value, with:\n",
        " \n",
        "\n",
        "```\n",
        "image[row, column] = pixel_value\n",
        "```\n",
        "\n",
        "In this case the original image will be permanetly modified.\n",
        "\n",
        "\n",
        "\n"
      ]
    },
    {
      "metadata": {
        "id": "8b8njbE4yRuG",
        "colab_type": "text"
      },
      "cell_type": "markdown",
      "source": [
        "Now, try to hide both eyes of **Lenna** with a black mask"
      ]
    },
    {
      "metadata": {
        "id": "a5vCBfYOxDI8",
        "colab_type": "code",
        "colab": {}
      },
      "cell_type": "code",
      "source": [
        "# Copy of the original image\n",
        "copyied_image = grayscale_image.copy()\n",
        "\n",
        "# Pupil coordinates\n",
        "mask_center_row = <Insert your code here>\n",
        "mask_center_column = <Insert your code here>\n",
        "radius = <Insert your code here>\n",
        "\n",
        "new_color = <Insert your code here>\n",
        "\n",
        "for row in range(<Insert your code here>):\n",
        "  for column in range(<Insert your code here>):\n",
        "    copyied_image[row, column] = new_color\n",
        "    \n",
        "# Shows image\n",
        "matplotlib.pyplot.imshow(copyied_image, cmap='gray')"
      ],
      "execution_count": 0,
      "outputs": []
    }
  ]
}